{
 "cells": [
  {
   "cell_type": "code",
   "execution_count": 1,
   "metadata": {},
   "outputs": [],
   "source": [
    "import numpy as np\n",
    "\n",
    "from skimage import io, transform\n",
    "from SIMulator_functions import *\n",
    "import glob\n",
    "import os\n",
    "import argparse"
   ]
  },
  {
   "cell_type": "code",
   "execution_count": 2,
   "metadata": {},
   "outputs": [],
   "source": [
    "# ------------ Parameters-------------\n",
    "def GetParams():\n",
    "    opt = argparse.Namespace()\n",
    "\n",
    "    # phase shifts for each stripe\n",
    "    opt.Nshifts = 3\n",
    "    # number of orientations of stripes\n",
    "    opt.Nangles = 3\n",
    "    # modulation factor\n",
    "    opt.ModFac = 0.3+0.4*np.random.rand()\n",
    "    # orientation offset\n",
    "    opt.alpha = pi/3*(np.random.rand()-0.5)\n",
    "    # orientation error\n",
    "    opt.angleError = 10*pi/180*(np.random.rand()-0.5)\n",
    "    # shuffle the order of orientations\n",
    "    opt.shuffleOrientations = False\n",
    "    # random phase shift errors\n",
    "    opt.phaseError = 1*pi*(0.5-np.random.rand(opt.Nangles, opt.Nshifts))\n",
    "    # in percentage\n",
    "    opt.NoiseLevel = 18 + 8*(np.random.rand()-0.5)\n",
    "    # Poisson noise extent\n",
    "    opt.Poisson = np.random.randint(10000,500000)\n",
    "    # include OTF and GT in stack\n",
    "    opt.OTF_and_GT = True\n",
    "    # NA\n",
    "    opt.NA = 1.2\n",
    "    # Emission wavelength\n",
    "    opt.emission = np.random.randint(520,680)\n",
    "    # Pattern frequency  \n",
    "    kMax = (2*opt.NA)/(opt.emission)\n",
    "    opt.k2 = 0.8*(kMax)\n",
    "    # Pixel Size\n",
    "    opt.Psize = np.random.randint(80,110)\n",
    "    \n",
    "    return opt\n"
   ]
  },
  {
   "cell_type": "code",
   "execution_count": 6,
   "metadata": {},
   "outputs": [
    {
     "data": {
      "text/plain": [
       "'E:/Users/ew535/Training datasets/DIV2K raw/DIV2K_train_HR\\\\0001.png'"
      ]
     },
     "execution_count": 6,
     "metadata": {},
     "output_type": "execute_result"
    }
   ],
   "source": [
    "# ------------ Options --------------\n",
    "nrep = 3\n",
    "\n",
    "sLoc = \"E:/Users/ew535/Training datasets/Trained sets/16-06-2020/\"\n",
    "files = glob.glob('E:/Users/ew535/Training datasets/DIV2K raw/DIV2K_train_HR/*.png')\n",
    "files[0]"
   ]
  },
  {
   "cell_type": "code",
   "execution_count": 7,
   "metadata": {},
   "outputs": [
    {
     "name": "stdout",
     "output_type": "stream",
     "text": [
      "1404\n"
     ]
    }
   ],
   "source": [
    "Io = io.imread(files[0]) / 255\n",
    "Io = Io - 0.3*np.amax(Io)\n",
    "Io[Io<0] = 0\n",
    "print(np.amin(Io[:,:,0].shape))"
   ]
  },
  {
   "cell_type": "code",
   "execution_count": 8,
   "metadata": {},
   "outputs": [
    {
     "name": "stdout",
     "output_type": "stream",
     "text": [
      "Done image 10 / 4500\n"
     ]
    },
    {
     "name": "stderr",
     "output_type": "stream",
     "text": [
      "C:\\Users\\edmax\\Anaconda3\\lib\\site-packages\\skimage\\io\\_io.py:141: UserWarning: E:/Users/ew535/Training datasets/Trained sets/16-06-2020/13.tif is a low contrast image\n",
      "  warn('%s is a low contrast image' % fname)\n"
     ]
    },
    {
     "name": "stdout",
     "output_type": "stream",
     "text": [
      "Done image 20 / 4500\n",
      "Done image 30 / 4500\n",
      "Done image 40 / 4500\n"
     ]
    },
    {
     "name": "stderr",
     "output_type": "stream",
     "text": [
      "C:\\Users\\edmax\\Anaconda3\\lib\\site-packages\\ipykernel_launcher.py:58: RuntimeWarning: invalid value encountered in true_divide\n"
     ]
    },
    {
     "name": "stdout",
     "output_type": "stream",
     "text": [
      "Done image 50 / 4500\n",
      "Done image 60 / 4500\n"
     ]
    },
    {
     "ename": "KeyboardInterrupt",
     "evalue": "",
     "output_type": "error",
     "traceback": [
      "\u001b[1;31m---------------------------------------------------------------------------\u001b[0m",
      "\u001b[1;31mKeyboardInterrupt\u001b[0m                         Traceback (most recent call last)",
      "\u001b[1;32m<ipython-input-8-474561fc8acf>\u001b[0m in \u001b[0;36m<module>\u001b[1;34m\u001b[0m\n\u001b[0;32m     51\u001b[0m         \u001b[0mOi\u001b[0m \u001b[1;33m=\u001b[0m \u001b[0mnp\u001b[0m\u001b[1;33m.\u001b[0m\u001b[0mrot90\u001b[0m\u001b[1;33m(\u001b[0m\u001b[0mOi\u001b[0m\u001b[1;33m,\u001b[0m\u001b[0mn_it\u001b[0m\u001b[1;33m)\u001b[0m\u001b[1;33m\u001b[0m\u001b[1;33m\u001b[0m\u001b[0m\n\u001b[0;32m     52\u001b[0m         \u001b[0mopt\u001b[0m \u001b[1;33m=\u001b[0m \u001b[0mGetParams\u001b[0m\u001b[1;33m(\u001b[0m\u001b[1;33m)\u001b[0m\u001b[1;33m\u001b[0m\u001b[1;33m\u001b[0m\u001b[0m\n\u001b[1;32m---> 53\u001b[1;33m         \u001b[0mstack\u001b[0m \u001b[1;33m=\u001b[0m \u001b[0mGenerate_SIM_Image\u001b[0m\u001b[1;33m(\u001b[0m\u001b[0mopt\u001b[0m\u001b[1;33m,\u001b[0m \u001b[0mIo\u001b[0m\u001b[1;33m,\u001b[0m \u001b[0mOi\u001b[0m\u001b[1;33m)\u001b[0m\u001b[1;33m\u001b[0m\u001b[1;33m\u001b[0m\u001b[0m\n\u001b[0m\u001b[0;32m     54\u001b[0m \u001b[1;33m\u001b[0m\u001b[0m\n\u001b[0;32m     55\u001b[0m         \u001b[1;31m# normalise\u001b[0m\u001b[1;33m\u001b[0m\u001b[1;33m\u001b[0m\u001b[1;33m\u001b[0m\u001b[0m\n",
      "\u001b[1;32m~\\Edward W\\ML python\\ML-SIM\\Data generation\\SIMulator_functions.py\u001b[0m in \u001b[0;36mGenerate_SIM_Image\u001b[1;34m(opt, Io, Oi)\u001b[0m\n\u001b[0;32m    121\u001b[0m \u001b[1;33m\u001b[0m\u001b[0m\n\u001b[0;32m    122\u001b[0m \u001b[1;33m\u001b[0m\u001b[0m\n\u001b[1;32m--> 123\u001b[1;33m     \u001b[0mframes\u001b[0m \u001b[1;33m=\u001b[0m \u001b[0mSIMimages\u001b[0m\u001b[1;33m(\u001b[0m\u001b[0mopt\u001b[0m\u001b[1;33m,\u001b[0m \u001b[0mDIo\u001b[0m\u001b[1;33m,\u001b[0m \u001b[0mDOi\u001b[0m\u001b[1;33m,\u001b[0m \u001b[0mPSFi\u001b[0m\u001b[1;33m,\u001b[0m \u001b[0mPSFo\u001b[0m\u001b[1;33m,\u001b[0m \u001b[0mbackground\u001b[0m\u001b[1;33m)\u001b[0m\u001b[1;33m\u001b[0m\u001b[1;33m\u001b[0m\u001b[0m\n\u001b[0m\u001b[0;32m    124\u001b[0m     \u001b[0mOTFi\u001b[0m \u001b[1;33m=\u001b[0m \u001b[0mnp\u001b[0m\u001b[1;33m.\u001b[0m\u001b[0mabs\u001b[0m\u001b[1;33m(\u001b[0m\u001b[0mnp\u001b[0m\u001b[1;33m.\u001b[0m\u001b[0mfft\u001b[0m\u001b[1;33m.\u001b[0m\u001b[0mfftshift\u001b[0m\u001b[1;33m(\u001b[0m\u001b[0mnp\u001b[0m\u001b[1;33m.\u001b[0m\u001b[0mfft\u001b[0m\u001b[1;33m.\u001b[0m\u001b[0mfft2\u001b[0m\u001b[1;33m(\u001b[0m\u001b[0mPSFi\u001b[0m\u001b[1;33m)\u001b[0m\u001b[1;33m)\u001b[0m\u001b[1;33m)\u001b[0m\u001b[1;33m\u001b[0m\u001b[1;33m\u001b[0m\u001b[0m\n\u001b[0;32m    125\u001b[0m \u001b[1;33m\u001b[0m\u001b[0m\n",
      "\u001b[1;32m~\\Edward W\\ML python\\ML-SIM\\Data generation\\SIMulator_functions.py\u001b[0m in \u001b[0;36mSIMimages\u001b[1;34m(opt, DIo, DOi, PSFi, PSFo, background)\u001b[0m\n\u001b[0;32m     61\u001b[0m \u001b[1;33m\u001b[0m\u001b[0m\n\u001b[0;32m     62\u001b[0m             \u001b[1;31m# Defocused excitation pattern\u001b[0m\u001b[1;33m\u001b[0m\u001b[1;33m\u001b[0m\u001b[1;33m\u001b[0m\u001b[0m\n\u001b[1;32m---> 63\u001b[1;33m             \u001b[0mpat_o\u001b[0m \u001b[1;33m=\u001b[0m \u001b[0mnp\u001b[0m\u001b[1;33m.\u001b[0m\u001b[0mfft\u001b[0m\u001b[1;33m.\u001b[0m\u001b[0mifftshift\u001b[0m\u001b[1;33m(\u001b[0m\u001b[0mnp\u001b[0m\u001b[1;33m.\u001b[0m\u001b[0mabs\u001b[0m\u001b[1;33m(\u001b[0m\u001b[0mifft2\u001b[0m\u001b[1;33m(\u001b[0m\u001b[0mfft2\u001b[0m\u001b[1;33m(\u001b[0m\u001b[0msig\u001b[0m\u001b[1;33m)\u001b[0m\u001b[1;33m*\u001b[0m\u001b[0mfftshift\u001b[0m\u001b[1;33m(\u001b[0m\u001b[0mOTFo\u001b[0m\u001b[1;33m)\u001b[0m\u001b[1;33m)\u001b[0m\u001b[1;33m)\u001b[0m\u001b[1;33m)\u001b[0m\u001b[1;33m\u001b[0m\u001b[1;33m\u001b[0m\u001b[0m\n\u001b[0m\u001b[0;32m     64\u001b[0m             \u001b[0mpat_o\u001b[0m \u001b[1;33m=\u001b[0m \u001b[0mpat_o\u001b[0m\u001b[1;33m/\u001b[0m\u001b[0mnp\u001b[0m\u001b[1;33m.\u001b[0m\u001b[0mamax\u001b[0m\u001b[1;33m(\u001b[0m\u001b[0mpat_o\u001b[0m\u001b[1;33m)\u001b[0m\u001b[1;33m\u001b[0m\u001b[1;33m\u001b[0m\u001b[0m\n\u001b[0;32m     65\u001b[0m \u001b[1;33m\u001b[0m\u001b[0m\n",
      "\u001b[1;32m~\\Anaconda3\\lib\\site-packages\\numpy\\fft\\helper.py\u001b[0m in \u001b[0;36mfftshift\u001b[1;34m(x, axes)\u001b[0m\n\u001b[0;32m     79\u001b[0m         \u001b[0mshift\u001b[0m \u001b[1;33m=\u001b[0m \u001b[1;33m[\u001b[0m\u001b[0mx\u001b[0m\u001b[1;33m.\u001b[0m\u001b[0mshape\u001b[0m\u001b[1;33m[\u001b[0m\u001b[0max\u001b[0m\u001b[1;33m]\u001b[0m \u001b[1;33m//\u001b[0m \u001b[1;36m2\u001b[0m \u001b[1;32mfor\u001b[0m \u001b[0max\u001b[0m \u001b[1;32min\u001b[0m \u001b[0maxes\u001b[0m\u001b[1;33m]\u001b[0m\u001b[1;33m\u001b[0m\u001b[1;33m\u001b[0m\u001b[0m\n\u001b[0;32m     80\u001b[0m \u001b[1;33m\u001b[0m\u001b[0m\n\u001b[1;32m---> 81\u001b[1;33m     \u001b[1;32mreturn\u001b[0m \u001b[0mroll\u001b[0m\u001b[1;33m(\u001b[0m\u001b[0mx\u001b[0m\u001b[1;33m,\u001b[0m \u001b[0mshift\u001b[0m\u001b[1;33m,\u001b[0m \u001b[0maxes\u001b[0m\u001b[1;33m)\u001b[0m\u001b[1;33m\u001b[0m\u001b[1;33m\u001b[0m\u001b[0m\n\u001b[0m\u001b[0;32m     82\u001b[0m \u001b[1;33m\u001b[0m\u001b[0m\n\u001b[0;32m     83\u001b[0m \u001b[1;33m\u001b[0m\u001b[0m\n",
      "\u001b[1;32m~\\Anaconda3\\lib\\site-packages\\numpy\\core\\numeric.py\u001b[0m in \u001b[0;36mroll\u001b[1;34m(a, shift, axis)\u001b[0m\n\u001b[0;32m   1484\u001b[0m         \u001b[1;32mfor\u001b[0m \u001b[0mindices\u001b[0m \u001b[1;32min\u001b[0m \u001b[0mitertools\u001b[0m\u001b[1;33m.\u001b[0m\u001b[0mproduct\u001b[0m\u001b[1;33m(\u001b[0m\u001b[1;33m*\u001b[0m\u001b[0mrolls\u001b[0m\u001b[1;33m)\u001b[0m\u001b[1;33m:\u001b[0m\u001b[1;33m\u001b[0m\u001b[1;33m\u001b[0m\u001b[0m\n\u001b[0;32m   1485\u001b[0m             \u001b[0marr_index\u001b[0m\u001b[1;33m,\u001b[0m \u001b[0mres_index\u001b[0m \u001b[1;33m=\u001b[0m \u001b[0mzip\u001b[0m\u001b[1;33m(\u001b[0m\u001b[1;33m*\u001b[0m\u001b[0mindices\u001b[0m\u001b[1;33m)\u001b[0m\u001b[1;33m\u001b[0m\u001b[1;33m\u001b[0m\u001b[0m\n\u001b[1;32m-> 1486\u001b[1;33m             \u001b[0mresult\u001b[0m\u001b[1;33m[\u001b[0m\u001b[0mres_index\u001b[0m\u001b[1;33m]\u001b[0m \u001b[1;33m=\u001b[0m \u001b[0ma\u001b[0m\u001b[1;33m[\u001b[0m\u001b[0marr_index\u001b[0m\u001b[1;33m]\u001b[0m\u001b[1;33m\u001b[0m\u001b[1;33m\u001b[0m\u001b[0m\n\u001b[0m\u001b[0;32m   1487\u001b[0m \u001b[1;33m\u001b[0m\u001b[0m\n\u001b[0;32m   1488\u001b[0m         \u001b[1;32mreturn\u001b[0m \u001b[0mresult\u001b[0m\u001b[1;33m\u001b[0m\u001b[1;33m\u001b[0m\u001b[0m\n",
      "\u001b[1;31mKeyboardInterrupt\u001b[0m: "
     ]
    }
   ],
   "source": [
    "from IPython import display\n",
    "n_rep = 5\n",
    "sNum = 1\n",
    "for n_it in range(n_rep):\n",
    "    # I think there was an nRep loop here to go through the data set multiple times\n",
    "    # ------------ Main loop --------------\n",
    "    for file in files:\n",
    "        Io = io.imread(file) \n",
    "        Io = Io / np.amax(Io)\n",
    "        Io = Io - 0.3 # Cropping LUT like this increases the number of sharp details in the image \n",
    "        Io[Io<0] = 0\n",
    "        Io = Io/np.amax(Io)\n",
    "        \n",
    "        minDim = np.amin(Io[:,:,0].shape)\n",
    "        \n",
    "        if (n_it % 2) ==0:\n",
    "            Io = Io[0:minDim,0:minDim,:] # Cropping image also helps increases the number of sharp details in the image\n",
    "            # With a bit of tweaking the cropping utility could be used to increase the ammount of training data created per data set\n",
    "        else:\n",
    "            Io = np.rot90(Io,2)\n",
    "            Io = Io[0:minDim,0:minDim,:] # Cropping image also helps increases the number of sharp details in the image\n",
    "            \n",
    "        Io = transform.resize(Io, (512, 512), anti_aliasing=True)\n",
    "\n",
    "        if np.random.rand(1) > 0.65: # 35 percent  of the time use the same image for background light\n",
    "\n",
    "            # Use same image\n",
    "            Oi = Io[:,:,np.random.randint(1,3)]  # if not grayscale\n",
    "            Io = Io[:,:,0]\n",
    "\n",
    "        else:\n",
    "            # Use another image\n",
    "            if  Io.shape[2] > 1:\n",
    "                Io = Io.mean(2)\n",
    "\n",
    "            fnew = files[np.random.randint(0, len(files))]\n",
    "            Oi = io.imread(fnew) \n",
    "            Oi = Oi / np.amax(Oi)\n",
    "            Oi = Oi - 0.3\n",
    "            Oi[Oi<0] = 0\n",
    "\n",
    "            minDim = np.amin(Oi[:,:,0].shape)\n",
    "            Oi = Oi[0:minDim-1,0:minDim-1,:]\n",
    "            Oi = transform.resize(Oi, (512, 512), anti_aliasing=True)\n",
    "\n",
    "            if  Oi.shape[2] > 1: # if not grayscale\n",
    "                Oi = Oi.mean(2)  \n",
    "                Oi = Oi/np.amax(Oi)\n",
    "\n",
    "        Io = np.rot90(Io,n_it)\n",
    "        Oi = np.rot90(Oi,n_it)\n",
    "        opt = GetParams()\n",
    "        stack = Generate_SIM_Image(opt, Io, Oi)\n",
    "\n",
    "        # normalise\n",
    "        for i in range(len(stack)):\n",
    "            stack[i] = (stack[i] - np.min(stack[i])) / \\\n",
    "                (np.max(stack[i]) - np.min(stack[i]))\n",
    "\n",
    "        stack = (stack * 255).astype('uint8')\n",
    "\n",
    "        svPath = sLoc+str(sNum)+\".tif\"\n",
    "        io.imsave(svPath,stack)\n",
    "        \n",
    "        if np.remainder(sNum,20) == 0:        \n",
    "            print('Done image',sNum, '/', n_rep*len(files))\n",
    "            \n",
    "        sNum += 1\n",
    "\n",
    "\n"
   ]
  },
  {
   "cell_type": "code",
   "execution_count": 14,
   "metadata": {},
   "outputs": [
    {
     "data": {
      "text/plain": [
       "100"
      ]
     },
     "execution_count": 14,
     "metadata": {},
     "output_type": "execute_result"
    }
   ],
   "source": []
  },
  {
   "cell_type": "code",
   "execution_count": null,
   "metadata": {},
   "outputs": [],
   "source": []
  }
 ],
 "metadata": {
  "kernelspec": {
   "display_name": "Python 3",
   "language": "python",
   "name": "python3"
  },
  "language_info": {
   "codemirror_mode": {
    "name": "ipython",
    "version": 3
   },
   "file_extension": ".py",
   "mimetype": "text/x-python",
   "name": "python",
   "nbconvert_exporter": "python",
   "pygments_lexer": "ipython3",
   "version": "3.7.3"
  }
 },
 "nbformat": 4,
 "nbformat_minor": 4
}
